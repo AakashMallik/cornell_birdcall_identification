{
 "cells": [
  {
   "cell_type": "code",
   "execution_count": 56,
   "metadata": {},
   "outputs": [],
   "source": [
    "from os import (makedirs, path, listdir)\n",
    "import random\n",
    "from shutil import copy\n",
    "import pandas as pd\n",
    "DATA_ROOT = r'C:\\Users\\M AMIN\\Downloads\\birdsong-recognition'"
   ]
  },
  {
   "cell_type": "code",
   "execution_count": 61,
   "metadata": {},
   "outputs": [],
   "source": [
    "def getdf():\n",
    "    csv_path=path.join(DATA_ROOT,\"train.csv\")\n",
    "    df=pd.read_csv(csv_path)\n",
    "    df=df.drop(columns=[\n",
    "        \"rating\",\"playback_used\",\"channels\",\n",
    "        \"pitch\",\"speed\", \"description\", \"file_type\", \"volume\", \n",
    "        \"xc_id\", \"author\", \"url\",\"length\", \"recordist\",\n",
    "        \"title\", \"bird_seen\", \"sci_name\", \"location\", \"license\"\n",
    "    ])\n",
    "    return df"
   ]
  },
  {
   "cell_type": "code",
   "execution_count": 81,
   "metadata": {},
   "outputs": [],
   "source": [
    "def checkpaths():\n",
    "    data_path=path.join(DATA_ROOT,\"train_audio\")\n",
    "    df=getdf()\n",
    "    df[\"path\"]=\"temp\"\n",
    "    t=0\n",
    "    for ind,rows in df.iterrows():\n",
    "        t+=1\n",
    "        rows['path']=path.join(data_path,rows[\"ebird_code\"],rows[\"filename\"])\n",
    "        if not path.exists(rows[\"path\"]):\n",
    "            raise Exception(\"{} not found, please check path...\".format(rows[\"path\"]))\n",
    "    return t"
   ]
  },
  {
   "cell_type": "code",
   "execution_count": 66,
   "metadata": {},
   "outputs": [],
   "source": [
    "def totfiles():\n",
    "    data_path=path.join(DATA_ROOT,\"train_audio\")\n",
    "    t=0\n",
    "    for birds in listdir(data_path):\n",
    "        for samples in listdir(path.join(data_path,birds)):\n",
    "            t+=1\n",
    "    return t\n",
    "totalfiles=totfiles()\n"
   ]
  },
  {
   "cell_type": "code",
   "execution_count": 84,
   "metadata": {},
   "outputs": [],
   "source": [
    "from sklearn.model_selection import StratifiedKFold"
   ]
  },
  {
   "cell_type": "code",
   "execution_count": 103,
   "metadata": {},
   "outputs": [
    {
     "name": "stdout",
     "output_type": "stream",
     "text": [
      "fold         0   1   2   3   4\n",
      "ebird_code                    \n",
      "aldfly      20  20  20  20  20\n",
      "ameavo       8   8   8   7   7\n",
      "amebit       9   9   8   9   9\n",
      "amecro      20  20  20  20  20\n",
      "amegfi      20  20  20  20  20\n",
      "...         ..  ..  ..  ..  ..\n",
      "yebsap      13  12  12  13  13\n",
      "yehbla      11  12  12  11  11\n",
      "yelwar      18  18  17  18  18\n",
      "yerwar      20  20  20  20  20\n",
      "yetvir      19  19  20  20  20\n",
      "\n",
      "[264 rows x 5 columns]\n"
     ]
    }
   ],
   "source": [
    "skf = StratifiedKFold(5)\n",
    "train_all=getdf()\n",
    "train_all[\"fold\"] = -1\n",
    "for fold_id, (train_index, val_index) in enumerate(skf.split(train_all, train_all[\"ebird_code\"])):\n",
    "    train_all.iloc[val_index, -1] = fold_id\n",
    "    \n",
    "# # check the propotion\n",
    "fold_proportion = pd.pivot_table(train_all, index=\"ebird_code\", columns=\"fold\", values=\"filename\", aggfunc=len)\n",
    "print(fold_proportion)"
   ]
  },
  {
   "cell_type": "code",
   "execution_count": 99,
   "metadata": {},
   "outputs": [
    {
     "data": {
      "text/plain": [
       "4275"
      ]
     },
     "execution_count": 99,
     "metadata": {},
     "output_type": "execute_result"
    }
   ],
   "source": [
    "len(train_all[train_all.fold==0])"
   ]
  },
  {
   "cell_type": "code",
   "execution_count": 101,
   "metadata": {},
   "outputs": [
    {
     "name": "stdout",
     "output_type": "stream",
     "text": [
      "0 <class 'numpy.ndarray'>\n",
      "1 <class 'numpy.ndarray'>\n",
      "2 <class 'numpy.ndarray'>\n",
      "3 <class 'numpy.ndarray'>\n",
      "4 <class 'numpy.ndarray'>\n"
     ]
    }
   ],
   "source": [
    "for fold_id, (train_index, val_index) in enumerate(skf.split(train_all, train_all[\"ebird_code\"])):"
   ]
  },
  {
   "cell_type": "code",
   "execution_count": 105,
   "metadata": {},
   "outputs": [
    {
     "data": {
      "text/plain": [
       "Index(['ebird_code', 'date', 'duration', 'filename', 'species',\n",
       "       'number_of_notes', 'secondary_labels', 'latitude', 'sampling_rate',\n",
       "       'type', 'elevation', 'bitrate_of_mp3', 'background', 'country',\n",
       "       'primary_label', 'longitude', 'time', 'resampled_sampling_rate',\n",
       "       'resampled_filename', 'resampled_channels', 'fold'],\n",
       "      dtype='object')"
      ]
     },
     "execution_count": 105,
     "metadata": {},
     "output_type": "execute_result"
    }
   ],
   "source": [
    "train_all.to_csv(\"train_with_folds\")"
   ]
  },
  {
   "cell_type": "code",
   "execution_count": 110,
   "metadata": {},
   "outputs": [],
   "source": [
    "train_all.to_csv(r\"C:\\Users\\M AMIN\\Downloads\\birdsong-recognition\\train_with_folds.csv\")"
   ]
  },
  {
   "cell_type": "code",
   "execution_count": 111,
   "metadata": {},
   "outputs": [
    {
     "data": {
      "text/plain": [
       "4275"
      ]
     },
     "execution_count": 111,
     "metadata": {},
     "output_type": "execute_result"
    }
   ],
   "source": [
    "val=train_all[train_all[\"fold\"]==4]\n",
    "len(val)"
   ]
  },
  {
   "cell_type": "code",
   "execution_count": 112,
   "metadata": {},
   "outputs": [
    {
     "data": {
      "text/plain": [
       "17100"
      ]
     },
     "execution_count": 112,
     "metadata": {},
     "output_type": "execute_result"
    }
   ],
   "source": [
    "train=train_all[train_all[\"fold\"]!=4]\n",
    "len(train)"
   ]
  },
  {
   "cell_type": "code",
   "execution_count": 124,
   "metadata": {},
   "outputs": [
    {
     "data": {
      "text/plain": [
       "ebird_code                                                  ameavo\n",
       "date                                                    2015-05-24\n",
       "duration                                                        22\n",
       "filename                                              XC304643.mp3\n",
       "species                                            American Avocet\n",
       "number_of_notes                                      Not specified\n",
       "secondary_labels                                                []\n",
       "latitude                                                   38.4716\n",
       "sampling_rate                                           48000 (Hz)\n",
       "type                                             call, flight call\n",
       "elevation                                                    550 m\n",
       "bitrate_of_mp3                                        128000 (bps)\n",
       "background                                                     NaN\n",
       "country                                              United States\n",
       "primary_label              Recurvirostra americana_American Avocet\n",
       "longitude                                                 -98.6727\n",
       "time                                                         14:14\n",
       "resampled_sampling_rate                                      22050\n",
       "resampled_filename                                    XC304643.wav\n",
       "resampled_channels                                        1 (mono)\n",
       "fold                                                             1\n",
       "Name: 115, dtype: object"
      ]
     },
     "execution_count": 124,
     "metadata": {},
     "output_type": "execute_result"
    }
   ],
   "source": [
    "train.iloc[95]"
   ]
  },
  {
   "cell_type": "code",
   "execution_count": 123,
   "metadata": {},
   "outputs": [
    {
     "data": {
      "text/plain": [
       "ebird_code                                             aldfly\n",
       "date                                               2018-06-12\n",
       "duration                                                   25\n",
       "filename                                         XC420402.mp3\n",
       "species                                      Alder Flycatcher\n",
       "number_of_notes                                 Not specified\n",
       "secondary_labels                                           []\n",
       "latitude                                              36.0973\n",
       "sampling_rate                                      44100 (Hz)\n",
       "type                                                     song\n",
       "elevation                                              1900 m\n",
       "bitrate_of_mp3                                   128000 (bps)\n",
       "background                                                NaN\n",
       "country                                         United States\n",
       "primary_label              Empidonax alnorum_Alder Flycatcher\n",
       "longitude                                            -82.1374\n",
       "time                                                    11:00\n",
       "resampled_sampling_rate                                 22050\n",
       "resampled_filename                               XC420402.wav\n",
       "resampled_channels                                   1 (mono)\n",
       "fold                                                        4\n",
       "Name: 95, dtype: object"
      ]
     },
     "execution_count": 123,
     "metadata": {},
     "output_type": "execute_result"
    }
   ],
   "source": [
    "train_all.iloc[95]"
   ]
  },
  {
   "cell_type": "code",
   "execution_count": null,
   "metadata": {},
   "outputs": [],
   "source": []
  }
 ],
 "metadata": {},
 "nbformat": 4,
 "nbformat_minor": 4
}
