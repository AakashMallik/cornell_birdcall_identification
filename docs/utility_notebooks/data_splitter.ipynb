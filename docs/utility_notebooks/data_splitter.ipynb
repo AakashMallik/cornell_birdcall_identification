{
 "cells": [
  {
   "cell_type": "code",
   "execution_count": 71,
   "metadata": {},
   "outputs": [],
   "source": [
    "from os import (makedirs, path, listdir)\n",
    "import random\n",
    "from shutil import copy\n",
    "import pandas as pd\n",
    "\n",
    "DATA_NAME = 'bird_song'\n",
    "DATA_ROOT = '../../__data__'\n",
    "MINI_DATA_NAME = 'mini_bird_song'\n",
    "NUM_FILES = 9\n",
    "MAX_FILES = 100"
   ]
  },
  {
   "cell_type": "code",
   "execution_count": 72,
   "metadata": {},
   "outputs": [],
   "source": [
    "def gen_mini_arr():\n",
    "    \n",
    "    data_path = path.join(DATA_ROOT, DATA_NAME)\n",
    "    \n",
    "    # Check if data path exists\n",
    "    if not path.exists(data_path):\n",
    "        raise Exception(\"{} not found, please check path...\".format(data_path))\n",
    "        \n",
    "    # Check if file limit exceeded\n",
    "    if MAX_FILES < NUM_FILES:\n",
    "        raise Exception(\" NUM_FILES: {} cannot be greated that MAX_FILES : {}\".format(NUM_FILES, MAX_FILES))\n",
    "    \n",
    "    # contains tuple of filename and path\n",
    "    filename_arr = []\n",
    "    \n",
    "    for parent_dir in listdir(path.join(data_path,'train_audio')):\n",
    "        sub_dir = path.join(data_path,'train_audio',parent_dir)\n",
    "\n",
    "        try:\n",
    "            tmp_arr = random.sample(listdir(sub_dir), NUM_FILES)\n",
    "\n",
    "            for file in tmp_arr:\n",
    "                filename_arr.append((file, path.join(data_path,'train_audio',parent_dir, file)))\n",
    "        except:\n",
    "            pass\n",
    "        \n",
    "    return filename_arr"
   ]
  },
  {
   "cell_type": "code",
   "execution_count": 74,
   "metadata": {},
   "outputs": [],
   "source": [
    "def move_files(mini_arr):\n",
    "    makedirs(path.join(DATA_ROOT, MINI_DATA_NAME,'train_audio'))\n",
    "    \n",
    "    for file, src_path in mini_arr:\n",
    "        dst_path = path.join(DATA_ROOT, MINI_DATA_NAME,'train_audio',file)\n",
    "        copy(src_path, dst_path)"
   ]
  },
  {
   "cell_type": "code",
   "execution_count": 90,
   "metadata": {},
   "outputs": [],
   "source": [
    "def gen_mini_csv(mini_arr):\n",
    "    csv_path = path.join(DATA_ROOT, DATA_NAME)\n",
    "    file_tup = list(zip(*mini_arr))[0]\n",
    "    \n",
    "    data_frame = pd.read_csv(path.join(csv_path, \"train.csv\"))\n",
    "    filtered_df = data_frame[data_frame.filename.isin(file_tup)]\n",
    "    clean_df = filtered_df.drop(columns=[\n",
    "        \"rating\",\"playback_used\",\"channels\",\n",
    "        \"pitch\",\"speed\", \"description\", \"file_type\", \"volume\", \n",
    "        \"xc_id\", \"author\", \"url\",\"length\", \"recordist\",\n",
    "        \"title\", \"bird_seen\", \"sci_name\", \"location\", \"license\"\n",
    "    ])\n",
    "    \n",
    "    clean_df.to_csv(path.join(DATA_ROOT, MINI_DATA_NAME,'train.csv'), index=False)"
   ]
  },
  {
   "cell_type": "code",
   "execution_count": 91,
   "metadata": {},
   "outputs": [],
   "source": [
    "mini_arr = gen_mini_arr()\n",
    "move_files(mini_arr)\n",
    "gen_mini_csv(mini_arr)"
   ]
  }
 ],
 "metadata": {
  "kernelspec": {
   "display_name": "Python 3",
   "language": "python",
   "name": "python3"
  },
  "language_info": {
   "codemirror_mode": {
    "name": "ipython",
    "version": 3
   },
   "file_extension": ".py",
   "mimetype": "text/x-python",
   "name": "python",
   "nbconvert_exporter": "python",
   "pygments_lexer": "ipython3",
   "version": "3.8.2"
  }
 },
 "nbformat": 4,
 "nbformat_minor": 4
}
